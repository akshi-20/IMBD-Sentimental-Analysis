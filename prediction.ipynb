{
 "cells": [
  {
   "cell_type": "code",
   "execution_count": 1,
   "metadata": {},
   "outputs": [],
   "source": [
    "# Step 1: Import Libraries and Load the Model\n",
    "import numpy as np\n",
    "import tensorflow as tf\n",
    "from tensorflow.keras.datasets import imdb\n",
    "from tensorflow.keras.preprocessing import sequence\n",
    "from tensorflow.keras.models import load_model"
   ]
  },
  {
   "cell_type": "code",
   "execution_count": 2,
   "metadata": {},
   "outputs": [],
   "source": [
    "\n",
    "# Load the IMDB dataset word index\n",
    "word_index = imdb.get_word_index()\n",
    "reverse_word_index = {value: key for key, value in word_index.items()}"
   ]
  },
  {
   "cell_type": "code",
   "execution_count": 3,
   "metadata": {},
   "outputs": [
    {
     "name": "stderr",
     "output_type": "stream",
     "text": [
      "WARNING:absl:Compiled the loaded model, but the compiled metrics have yet to be built. `model.compile_metrics` will be empty until you train or evaluate the model.\n"
     ]
    },
    {
     "data": {
      "text/html": [
       "<pre style=\"white-space:pre;overflow-x:auto;line-height:normal;font-family:Menlo,'DejaVu Sans Mono',consolas,'Courier New',monospace\"><span style=\"font-weight: bold\">Model: \"sequential\"</span>\n",
       "</pre>\n"
      ],
      "text/plain": [
       "\u001b[1mModel: \"sequential\"\u001b[0m\n"
      ]
     },
     "metadata": {},
     "output_type": "display_data"
    },
    {
     "data": {
      "text/html": [
       "<pre style=\"white-space:pre;overflow-x:auto;line-height:normal;font-family:Menlo,'DejaVu Sans Mono',consolas,'Courier New',monospace\">┏━━━━━━━━━━━━━━━━━━━━━━━━━━━━━━━━━┳━━━━━━━━━━━━━━━━━━━━━━━━┳━━━━━━━━━━━━━━━┓\n",
       "┃<span style=\"font-weight: bold\"> Layer (type)                    </span>┃<span style=\"font-weight: bold\"> Output Shape           </span>┃<span style=\"font-weight: bold\">       Param # </span>┃\n",
       "┡━━━━━━━━━━━━━━━━━━━━━━━━━━━━━━━━━╇━━━━━━━━━━━━━━━━━━━━━━━━╇━━━━━━━━━━━━━━━┩\n",
       "│ embedding (<span style=\"color: #0087ff; text-decoration-color: #0087ff\">Embedding</span>)           │ (<span style=\"color: #00af00; text-decoration-color: #00af00\">32</span>, <span style=\"color: #00af00; text-decoration-color: #00af00\">500</span>, <span style=\"color: #00af00; text-decoration-color: #00af00\">128</span>)         │     <span style=\"color: #00af00; text-decoration-color: #00af00\">1,280,000</span> │\n",
       "├─────────────────────────────────┼────────────────────────┼───────────────┤\n",
       "│ simple_rnn (<span style=\"color: #0087ff; text-decoration-color: #0087ff\">SimpleRNN</span>)          │ (<span style=\"color: #00af00; text-decoration-color: #00af00\">32</span>, <span style=\"color: #00af00; text-decoration-color: #00af00\">128</span>)              │        <span style=\"color: #00af00; text-decoration-color: #00af00\">32,896</span> │\n",
       "├─────────────────────────────────┼────────────────────────┼───────────────┤\n",
       "│ dense (<span style=\"color: #0087ff; text-decoration-color: #0087ff\">Dense</span>)                   │ (<span style=\"color: #00af00; text-decoration-color: #00af00\">32</span>, <span style=\"color: #00af00; text-decoration-color: #00af00\">1</span>)                │           <span style=\"color: #00af00; text-decoration-color: #00af00\">129</span> │\n",
       "└─────────────────────────────────┴────────────────────────┴───────────────┘\n",
       "</pre>\n"
      ],
      "text/plain": [
       "┏━━━━━━━━━━━━━━━━━━━━━━━━━━━━━━━━━┳━━━━━━━━━━━━━━━━━━━━━━━━┳━━━━━━━━━━━━━━━┓\n",
       "┃\u001b[1m \u001b[0m\u001b[1mLayer (type)                   \u001b[0m\u001b[1m \u001b[0m┃\u001b[1m \u001b[0m\u001b[1mOutput Shape          \u001b[0m\u001b[1m \u001b[0m┃\u001b[1m \u001b[0m\u001b[1m      Param #\u001b[0m\u001b[1m \u001b[0m┃\n",
       "┡━━━━━━━━━━━━━━━━━━━━━━━━━━━━━━━━━╇━━━━━━━━━━━━━━━━━━━━━━━━╇━━━━━━━━━━━━━━━┩\n",
       "│ embedding (\u001b[38;5;33mEmbedding\u001b[0m)           │ (\u001b[38;5;34m32\u001b[0m, \u001b[38;5;34m500\u001b[0m, \u001b[38;5;34m128\u001b[0m)         │     \u001b[38;5;34m1,280,000\u001b[0m │\n",
       "├─────────────────────────────────┼────────────────────────┼───────────────┤\n",
       "│ simple_rnn (\u001b[38;5;33mSimpleRNN\u001b[0m)          │ (\u001b[38;5;34m32\u001b[0m, \u001b[38;5;34m128\u001b[0m)              │        \u001b[38;5;34m32,896\u001b[0m │\n",
       "├─────────────────────────────────┼────────────────────────┼───────────────┤\n",
       "│ dense (\u001b[38;5;33mDense\u001b[0m)                   │ (\u001b[38;5;34m32\u001b[0m, \u001b[38;5;34m1\u001b[0m)                │           \u001b[38;5;34m129\u001b[0m │\n",
       "└─────────────────────────────────┴────────────────────────┴───────────────┘\n"
      ]
     },
     "metadata": {},
     "output_type": "display_data"
    },
    {
     "data": {
      "text/html": [
       "<pre style=\"white-space:pre;overflow-x:auto;line-height:normal;font-family:Menlo,'DejaVu Sans Mono',consolas,'Courier New',monospace\"><span style=\"font-weight: bold\"> Total params: </span><span style=\"color: #00af00; text-decoration-color: #00af00\">1,313,027</span> (5.01 MB)\n",
       "</pre>\n"
      ],
      "text/plain": [
       "\u001b[1m Total params: \u001b[0m\u001b[38;5;34m1,313,027\u001b[0m (5.01 MB)\n"
      ]
     },
     "metadata": {},
     "output_type": "display_data"
    },
    {
     "data": {
      "text/html": [
       "<pre style=\"white-space:pre;overflow-x:auto;line-height:normal;font-family:Menlo,'DejaVu Sans Mono',consolas,'Courier New',monospace\"><span style=\"font-weight: bold\"> Trainable params: </span><span style=\"color: #00af00; text-decoration-color: #00af00\">1,313,025</span> (5.01 MB)\n",
       "</pre>\n"
      ],
      "text/plain": [
       "\u001b[1m Trainable params: \u001b[0m\u001b[38;5;34m1,313,025\u001b[0m (5.01 MB)\n"
      ]
     },
     "metadata": {},
     "output_type": "display_data"
    },
    {
     "data": {
      "text/html": [
       "<pre style=\"white-space:pre;overflow-x:auto;line-height:normal;font-family:Menlo,'DejaVu Sans Mono',consolas,'Courier New',monospace\"><span style=\"font-weight: bold\"> Non-trainable params: </span><span style=\"color: #00af00; text-decoration-color: #00af00\">0</span> (0.00 B)\n",
       "</pre>\n"
      ],
      "text/plain": [
       "\u001b[1m Non-trainable params: \u001b[0m\u001b[38;5;34m0\u001b[0m (0.00 B)\n"
      ]
     },
     "metadata": {},
     "output_type": "display_data"
    },
    {
     "data": {
      "text/html": [
       "<pre style=\"white-space:pre;overflow-x:auto;line-height:normal;font-family:Menlo,'DejaVu Sans Mono',consolas,'Courier New',monospace\"><span style=\"font-weight: bold\"> Optimizer params: </span><span style=\"color: #00af00; text-decoration-color: #00af00\">2</span> (12.00 B)\n",
       "</pre>\n"
      ],
      "text/plain": [
       "\u001b[1m Optimizer params: \u001b[0m\u001b[38;5;34m2\u001b[0m (12.00 B)\n"
      ]
     },
     "metadata": {},
     "output_type": "display_data"
    }
   ],
   "source": [
    "# Load the pre-trained model with ReLU activation\n",
    "model = load_model('simple_rnn_imdb.h5')\n",
    "model.summary()"
   ]
  },
  {
   "cell_type": "code",
   "execution_count": 4,
   "metadata": {},
   "outputs": [
    {
     "data": {
      "text/plain": [
       "[array([[ 0.2769825 , -0.18922481,  0.17036065, ..., -0.6316374 ,\n",
       "          0.22644512,  0.24546976],\n",
       "        [ 0.04393276, -0.03735644,  0.0605685 , ..., -0.02577609,\n",
       "          0.02823578, -0.01545224],\n",
       "        [ 0.09910645, -0.0153516 ,  0.01000344, ..., -0.02869209,\n",
       "          0.08553822,  0.07406817],\n",
       "        ...,\n",
       "        [ 0.00071958,  0.03110507, -0.04796446, ...,  0.01554299,\n",
       "         -0.02080735, -0.01766643],\n",
       "        [ 0.02036991,  0.0149447 ,  0.01193179, ..., -0.01288866,\n",
       "          0.03033142, -0.03868545],\n",
       "        [ 0.00168978,  0.00688652,  0.02557511, ...,  0.03737102,\n",
       "         -0.0066774 ,  0.04705449]], dtype=float32),\n",
       " array([[-0.17130783, -0.07896052,  0.04370777, ...,  0.08341393,\n",
       "         -0.18959828,  0.04972703],\n",
       "        [-0.14706655,  0.07122274,  0.05485333, ..., -0.06343287,\n",
       "         -0.06026959,  0.00437684],\n",
       "        [ 0.07190721,  0.06680701, -0.05579022, ...,  0.06119751,\n",
       "          0.05822619, -0.0002295 ],\n",
       "        ...,\n",
       "        [-0.06677113,  0.06513432,  0.08011667, ...,  0.16713731,\n",
       "          0.08300309,  0.01874107],\n",
       "        [ 0.00886224, -0.06078957, -0.06433153, ...,  0.00836657,\n",
       "         -0.16473085, -0.03707979],\n",
       "        [ 0.02382199,  0.08514234,  0.01041474, ...,  0.10845993,\n",
       "         -0.10687337, -0.09280942]], dtype=float32),\n",
       " array([[ 0.02421185,  0.02412127,  0.06976522, ...,  0.12010369,\n",
       "         -0.01090407, -0.11063874],\n",
       "        [ 0.0087641 , -0.0184282 , -0.1361613 , ..., -0.12070402,\n",
       "          0.01097004, -0.09313457],\n",
       "        [-0.16838385, -0.0631907 ,  0.00785934, ..., -0.07077973,\n",
       "          0.0464116 ,  0.02184336],\n",
       "        ...,\n",
       "        [ 0.07295361, -0.07984076, -0.0902722 , ...,  0.20354193,\n",
       "         -0.05667766,  0.07008974],\n",
       "        [ 0.01050889,  0.08364819, -0.05597955, ..., -0.10679784,\n",
       "         -0.04833938, -0.01210742],\n",
       "        [ 0.04442418,  0.03479854,  0.08487599, ..., -0.02353377,\n",
       "          0.03595534, -0.1150555 ]], dtype=float32),\n",
       " array([-0.00526259, -0.01949628, -0.00189573,  0.01320596,  0.02944329,\n",
       "         0.01490127, -0.00524228,  0.00146604,  0.00179918, -0.02069038,\n",
       "         0.00857351,  0.01124105,  0.00615323, -0.02323185, -0.00617275,\n",
       "        -0.02042596,  0.01906984, -0.01658994, -0.01852819, -0.00846334,\n",
       "        -0.00481244,  0.00231564,  0.0127433 ,  0.003563  , -0.02743155,\n",
       "         0.00440245, -0.02795929, -0.02802381, -0.01135821, -0.02154376,\n",
       "        -0.00776324,  0.00534401, -0.00102184,  0.00850415, -0.00781481,\n",
       "        -0.01059137, -0.01163732, -0.01956163,  0.00593409, -0.01526231,\n",
       "         0.00396509, -0.01092276, -0.01032728, -0.01292532, -0.01238624,\n",
       "        -0.00555184, -0.0149963 , -0.00123915, -0.0026534 ,  0.01318793,\n",
       "        -0.02644498, -0.00845636,  0.01132894, -0.02186845,  0.00996142,\n",
       "         0.0163365 , -0.00618061, -0.02342694,  0.00198054, -0.00299781,\n",
       "        -0.01738046,  0.01018536,  0.00862945,  0.00256511,  0.01397425,\n",
       "        -0.01553218,  0.00330537, -0.01438288, -0.01069017, -0.01130583,\n",
       "        -0.01213227, -0.01465167, -0.00200699, -0.00756711,  0.02558225,\n",
       "         0.01182297,  0.00164205,  0.01681755, -0.00130723,  0.00612262,\n",
       "        -0.01111817,  0.00866088, -0.01528204,  0.00700215,  0.01122283,\n",
       "         0.0091167 , -0.01567364, -0.01407185,  0.01590875, -0.00365455,\n",
       "        -0.02788146, -0.0115695 , -0.0015667 ,  0.00424526, -0.0224045 ,\n",
       "        -0.00185981,  0.01862435, -0.00683116, -0.00227162, -0.03731945,\n",
       "         0.00897554, -0.02891775,  0.01791921, -0.00431219, -0.01200177,\n",
       "        -0.03222451, -0.00771366,  0.02582267, -0.00472664,  0.00489414,\n",
       "        -0.01876069, -0.00250164,  0.01288575,  0.00504846, -0.02606648,\n",
       "         0.0010656 ,  0.00856514, -0.00253873, -0.0287488 , -0.00209   ,\n",
       "        -0.0055546 , -0.00184977, -0.03024198, -0.00510341, -0.00824471,\n",
       "         0.01494085, -0.0053282 , -0.00760161], dtype=float32),\n",
       " array([[-0.24493203],\n",
       "        [-0.20597237],\n",
       "        [-0.10331336],\n",
       "        [ 0.06351583],\n",
       "        [-0.5771285 ],\n",
       "        [-0.07686488],\n",
       "        [-0.08170937],\n",
       "        [-0.20230004],\n",
       "        [ 0.08734085],\n",
       "        [-0.34916267],\n",
       "        [ 0.15964234],\n",
       "        [-0.12152067],\n",
       "        [-0.26300332],\n",
       "        [ 0.09892979],\n",
       "        [-0.07045636],\n",
       "        [-0.16413166],\n",
       "        [-0.23860794],\n",
       "        [ 0.05928614],\n",
       "        [-0.17863198],\n",
       "        [ 0.04442631],\n",
       "        [-0.05980339],\n",
       "        [-0.12672816],\n",
       "        [ 0.113956  ],\n",
       "        [ 0.07424981],\n",
       "        [-0.05407228],\n",
       "        [ 0.10788935],\n",
       "        [ 0.14800686],\n",
       "        [ 0.11495078],\n",
       "        [ 0.07900973],\n",
       "        [-0.07856989],\n",
       "        [ 0.22647198],\n",
       "        [ 0.04882317],\n",
       "        [-0.03295751],\n",
       "        [-0.40030488],\n",
       "        [-0.19160259],\n",
       "        [-0.15559964],\n",
       "        [ 0.18107127],\n",
       "        [ 0.04079583],\n",
       "        [-0.11478491],\n",
       "        [-0.08634492],\n",
       "        [-0.05315409],\n",
       "        [-0.18182924],\n",
       "        [ 0.00792733],\n",
       "        [-0.19648045],\n",
       "        [-0.01910996],\n",
       "        [-0.0911018 ],\n",
       "        [-0.01903891],\n",
       "        [ 0.06135539],\n",
       "        [-0.11480241],\n",
       "        [ 0.07022323],\n",
       "        [ 0.13244645],\n",
       "        [-0.15194888],\n",
       "        [ 0.16606781],\n",
       "        [-0.32204813],\n",
       "        [ 0.16751888],\n",
       "        [-0.03699701],\n",
       "        [-0.12369807],\n",
       "        [-0.05514732],\n",
       "        [-0.06304636],\n",
       "        [ 0.0976024 ],\n",
       "        [-0.03998524],\n",
       "        [-0.0939451 ],\n",
       "        [ 0.23086172],\n",
       "        [ 0.09008267],\n",
       "        [-0.00981452],\n",
       "        [ 0.12083405],\n",
       "        [ 0.15312926],\n",
       "        [-0.4758105 ],\n",
       "        [-0.08795347],\n",
       "        [-0.2255692 ],\n",
       "        [-0.27536675],\n",
       "        [ 0.12663472],\n",
       "        [ 0.06419242],\n",
       "        [ 0.05169535],\n",
       "        [-0.15777984],\n",
       "        [-0.05175852],\n",
       "        [-0.19188946],\n",
       "        [ 0.10503862],\n",
       "        [-0.13772954],\n",
       "        [-0.0473057 ],\n",
       "        [ 0.14852658],\n",
       "        [-0.01772389],\n",
       "        [ 0.0628102 ],\n",
       "        [ 0.01919094],\n",
       "        [-0.01224518],\n",
       "        [ 0.00630166],\n",
       "        [-0.11304177],\n",
       "        [ 0.04898601],\n",
       "        [ 0.06321782],\n",
       "        [ 0.02864988],\n",
       "        [-0.44786432],\n",
       "        [-0.1738077 ],\n",
       "        [ 0.11265134],\n",
       "        [ 0.05728642],\n",
       "        [ 0.23690352],\n",
       "        [-0.1977297 ],\n",
       "        [-0.09021658],\n",
       "        [ 0.03734431],\n",
       "        [-0.15117787],\n",
       "        [-0.11610346],\n",
       "        [ 0.09924233],\n",
       "        [ 0.1506985 ],\n",
       "        [-0.22503933],\n",
       "        [-0.12320352],\n",
       "        [ 0.06496937],\n",
       "        [ 0.18076444],\n",
       "        [ 0.00353682],\n",
       "        [-0.16336466],\n",
       "        [-0.03841909],\n",
       "        [ 0.08577784],\n",
       "        [-0.05705172],\n",
       "        [-0.06693273],\n",
       "        [ 0.15801187],\n",
       "        [-0.32205847],\n",
       "        [-0.07550754],\n",
       "        [ 0.05045452],\n",
       "        [-0.00214478],\n",
       "        [ 0.15382057],\n",
       "        [ 0.04700885],\n",
       "        [-0.1796246 ],\n",
       "        [-0.05196712],\n",
       "        [-0.16208206],\n",
       "        [-0.02747103],\n",
       "        [-0.4660596 ],\n",
       "        [ 0.08383988],\n",
       "        [-0.16064142],\n",
       "        [-0.10503297],\n",
       "        [ 0.1181123 ]], dtype=float32),\n",
       " array([-0.27984098], dtype=float32)]"
      ]
     },
     "execution_count": 4,
     "metadata": {},
     "output_type": "execute_result"
    }
   ],
   "source": [
    "model.get_weights()"
   ]
  },
  {
   "cell_type": "code",
   "execution_count": 5,
   "metadata": {},
   "outputs": [],
   "source": [
    "# Step 2: Helper Functions\n",
    "# Function to decode reviews\n",
    "def decode_review(encoded_review):\n",
    "    return ' '.join([reverse_word_index.get(i - 3, '?') for i in encoded_review])\n",
    "\n",
    "# Function to preprocess user input\n",
    "def preprocess_text(text):\n",
    "    words = text.lower().split()\n",
    "    encoded_review = [word_index.get(word, 2) + 3 for word in words]\n",
    "    padded_review = sequence.pad_sequences([encoded_review], maxlen=500)\n",
    "    return padded_review"
   ]
  },
  {
   "cell_type": "code",
   "execution_count": 6,
   "metadata": {},
   "outputs": [],
   "source": [
    "### Prediction  function\n",
    "\n",
    "def predict_sentiment(review):\n",
    "    preprocessed_input=preprocess_text(review)\n",
    "\n",
    "    prediction=model.predict(preprocessed_input)\n",
    "\n",
    "    sentiment = 'Positive' if prediction[0][0] > 0.5 else 'Negative'\n",
    "    \n",
    "    return sentiment, prediction[0][0]\n",
    "\n"
   ]
  },
  {
   "cell_type": "code",
   "execution_count": 7,
   "metadata": {},
   "outputs": [
    {
     "name": "stdout",
     "output_type": "stream",
     "text": [
      "\u001b[1m1/1\u001b[0m \u001b[32m━━━━━━━━━━━━━━━━━━━━\u001b[0m\u001b[37m\u001b[0m \u001b[1m0s\u001b[0m 203ms/step\n",
      "Review: This movie was fantastic! The acting was great and the plot was thrilling.\n",
      "Sentiment: Positive\n",
      "Prediction Score: 0.7763803005218506\n"
     ]
    }
   ],
   "source": [
    "# Step 4: User Input and Prediction\n",
    "# Example review for prediction\n",
    "example_review = \"This movie was fantastic! The acting was great and the plot was thrilling.\"\n",
    "\n",
    "sentiment,score=predict_sentiment(example_review)\n",
    "\n",
    "print(f'Review: {example_review}')\n",
    "print(f'Sentiment: {sentiment}')\n",
    "print(f'Prediction Score: {score}')"
   ]
  }
 ],
 "metadata": {
  "kernelspec": {
   "display_name": "Python 3",
   "language": "python",
   "name": "python3"
  },
  "language_info": {
   "codemirror_mode": {
    "name": "ipython",
    "version": 3
   },
   "file_extension": ".py",
   "mimetype": "text/x-python",
   "name": "python",
   "nbconvert_exporter": "python",
   "pygments_lexer": "ipython3",
   "version": "3.12.10"
  }
 },
 "nbformat": 4,
 "nbformat_minor": 2
}
